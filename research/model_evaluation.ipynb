{
 "cells": [
  {
   "cell_type": "code",
   "execution_count": 1,
   "metadata": {},
   "outputs": [],
   "source": [
    "import os"
   ]
  },
  {
   "cell_type": "code",
   "execution_count": 2,
   "metadata": {},
   "outputs": [
    {
     "data": {
      "text/plain": [
       "'/home/aman/Desktop/TextCraft/research'"
      ]
     },
     "execution_count": 2,
     "metadata": {},
     "output_type": "execute_result"
    }
   ],
   "source": [
    "%pwd"
   ]
  },
  {
   "cell_type": "code",
   "execution_count": 3,
   "metadata": {},
   "outputs": [],
   "source": [
    "os.chdir(\"../\")"
   ]
  },
  {
   "cell_type": "code",
   "execution_count": 4,
   "metadata": {},
   "outputs": [],
   "source": [
    "from dataclasses import dataclass\n",
    "from pathlib import Path"
   ]
  },
  {
   "cell_type": "code",
   "execution_count": 5,
   "metadata": {},
   "outputs": [],
   "source": [
    "@dataclass(frozen=True)\n",
    "class ModelEvaluationConfig:\n",
    "    root_dir: Path\n",
    "    data_path: Path\n",
    "    model_path: Path\n",
    "    tokenizer_path: Path\n",
    "    metric_file_name: Path"
   ]
  },
  {
   "cell_type": "code",
   "execution_count": 6,
   "metadata": {},
   "outputs": [],
   "source": [
    "from TextCraft.utils.common import read_yaml, create_directories\n",
    "from TextCraft.constants import *"
   ]
  },
  {
   "cell_type": "code",
   "execution_count": 7,
   "metadata": {},
   "outputs": [],
   "source": [
    "class ConfigurationManager:\n",
    "    def __init__(self, config_path = CONFIG_FILE_PATH, param_path = PARAMS_FILE_PATH):\n",
    "        self.config = read_yaml(config_path)\n",
    "        self.params = read_yaml(param_path)\n",
    "\n",
    "        create_directories([self.config.artifacts_root])\n",
    "\n",
    "    def get_eval_config(self) -> ModelEvaluationConfig:\n",
    "        config = self.config.model_evaluation\n",
    "\n",
    "        create_directories([config.root_dir])\n",
    "\n",
    "        get_eval_config = ModelEvaluationConfig(\n",
    "            root_dir= config.root_dir,\n",
    "            data_path= config.data_path,\n",
    "            model_path= config.model_path,\n",
    "            tokenizer_path= config.tokenizer_path,\n",
    "            metric_file_name= config.metric_file_name\n",
    "        )\n",
    "        return get_eval_config"
   ]
  },
  {
   "cell_type": "code",
   "execution_count": 8,
   "metadata": {},
   "outputs": [
    {
     "name": "stderr",
     "output_type": "stream",
     "text": [
      "/home/aman/Desktop/TextCraft/Craft/lib/python3.10/site-packages/tqdm/auto.py:21: TqdmWarning: IProgress not found. Please update jupyter and ipywidgets. See https://ipywidgets.readthedocs.io/en/stable/user_install.html\n",
      "  from .autonotebook import tqdm as notebook_tqdm\n"
     ]
    },
    {
     "name": "stdout",
     "output_type": "stream",
     "text": [
      "[2024-09-12 23:27:08,145: INFO: config: PyTorch version 2.4.1 available.]\n"
     ]
    }
   ],
   "source": [
    "from transformers import GPT2Tokenizer, GPT2LMHeadModel\n",
    "from datasets import load_dataset, load_from_disk, load_metric\n",
    "import torch\n",
    "import pandas as pd\n",
    "from tqdm import tqdm"
   ]
  },
  {
   "cell_type": "code",
   "execution_count": 10,
   "metadata": {},
   "outputs": [],
   "source": [
    "class ModelEvaluation:\n",
    "    def __init__(self, config: ModelEvaluationConfig):\n",
    "        self.config = config\n",
    "\n",
    "    def generate_batched_chunks(self, list_of_elements, batch_size):\n",
    "        for i in range(0, len(list_of_elements), batch_size):\n",
    "            yield list_of_elements[i: i+batch_size]\n",
    "    with torch.no_grad():\n",
    "        def calculate_metric_on_test_ds(self,dataset, model, tokenizer, \n",
    "                                    batch_size=16, device=\"cuda\" if torch.cuda.is_available() else \"cpu\", \n",
    "                                    column_text=\"text\"):\n",
    "            text_batches = list(self.generate_batch_sized_chunks(dataset[column_text], batch_size))\n",
    "\n",
    "            for text_batches in tqdm(text_batches, total=len(text_batches)):\n",
    "                \n",
    "                inputs = tokenizer(text_batches, max_length=1024,  truncation=True, \n",
    "                                padding=\"max_length\", return_tensors=\"pt\")\n",
    "                \n",
    "                input_ids = inputs['input_ids'].to(device)\n",
    "                attention_mask = inputs['attention_mask'].to(device)\n",
    "                \n",
    "                labels = input_ids.clone()\n",
    "\n",
    "                outputs = model(input_ids, attention_mask=attention_mask, labels=labels)\n",
    "                loss = outputs.loss\n",
    "\n",
    "                total_loss += loss.item() * input_ids.size(1) \n",
    "                total_tokens += input_ids.size(1)    \n",
    "            perplexity = torch.exp(torch.tensor(total_loss / total_tokens))\n",
    "            return perplexity.item()\n",
    "                \n",
    "    def evaluate(self):\n",
    "        device = \"cuda\" if torch.cuda.is_available() else \"cpu\"\n",
    "        tokenizer = GPT2Tokenizer.from_pretrained(self.config.tokenizer_path)\n",
    "        model = GPT2LMHeadModel.from_pretrained(self.config.model_path).to(device)\n",
    "\n",
    "        dataset_pt = load_from_disk(self.config.data_path)\n",
    "\n",
    "        # Calculate perplexity on the test dataset\n",
    "        perplexity = self.calculate_metric_on_test_ds(\n",
    "            dataset_pt['test'], model, tokenizer, batch_size=2, column_text='text'\n",
    "        )\n",
    "\n",
    "        # Save results to a CSV file\n",
    "        results = {\"perplexity\": [perplexity]}\n",
    "        df = pd.DataFrame(results, index=[f'{self.config.model_name}'])\n",
    "        df.to_csv(self.config.metric_file_name, index=False)"
   ]
  },
  {
   "cell_type": "code",
   "execution_count": 11,
   "metadata": {},
   "outputs": [
    {
     "name": "stdout",
     "output_type": "stream",
     "text": [
      "[2024-09-12 23:27:27,018: INFO: common: yaml file: config/config.yaml loaded successfully]\n",
      "[2024-09-12 23:27:27,259: INFO: common: yaml file: params.yaml loaded successfully]\n",
      "[2024-09-12 23:27:27,268: INFO: common: created directory at: artifacts]\n",
      "[2024-09-12 23:27:27,274: INFO: common: created directory at: artifacts/model_evaluation]\n",
      "Csv already exists at artifacts/model_evaluation/evaluation_results.csv. Skipping ...\n"
     ]
    }
   ],
   "source": [
    "try:\n",
    "    config = ConfigurationManager()\n",
    "    model_eval_config = config.get_eval_config()\n",
    "    model_eval_config = ModelEvaluation(config = model_eval_config)\n",
    "\n",
    "    metric_path = os.path.join(\"artifacts\", \"model_evaluation\", \"evaluation_results.csv\")\n",
    "\n",
    "    if os.path.exists(metric_path):\n",
    "        print(f\"Csv already exists at {metric_path}. Skipping ...\")\n",
    "    else:\n",
    "        print(\"Csv not found. Starting evaluation...\")\n",
    "        model_eval_config.evaluate()\n",
    "except Exception as e:\n",
    "    raise e"
   ]
  }
 ],
 "metadata": {
  "kernelspec": {
   "display_name": "Craft",
   "language": "python",
   "name": "python3"
  },
  "language_info": {
   "codemirror_mode": {
    "name": "ipython",
    "version": 3
   },
   "file_extension": ".py",
   "mimetype": "text/x-python",
   "name": "python",
   "nbconvert_exporter": "python",
   "pygments_lexer": "ipython3",
   "version": "3.10.12"
  }
 },
 "nbformat": 4,
 "nbformat_minor": 2
}
