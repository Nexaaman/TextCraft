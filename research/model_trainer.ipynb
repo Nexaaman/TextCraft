{
 "cells": [
  {
   "cell_type": "code",
   "execution_count": 1,
   "metadata": {},
   "outputs": [],
   "source": [
    "import os"
   ]
  },
  {
   "cell_type": "code",
   "execution_count": 2,
   "metadata": {},
   "outputs": [
    {
     "data": {
      "text/plain": [
       "'/home/aman/Desktop/TextCraft/research'"
      ]
     },
     "execution_count": 2,
     "metadata": {},
     "output_type": "execute_result"
    }
   ],
   "source": [
    "%pwd"
   ]
  },
  {
   "cell_type": "code",
   "execution_count": 3,
   "metadata": {},
   "outputs": [],
   "source": [
    "os.chdir(\"../\")"
   ]
  },
  {
   "cell_type": "code",
   "execution_count": 4,
   "metadata": {},
   "outputs": [],
   "source": [
    "from pathlib import Path\n",
    "from dataclasses import dataclass"
   ]
  },
  {
   "cell_type": "code",
   "execution_count": 5,
   "metadata": {},
   "outputs": [],
   "source": [
    "@dataclass(frozen=True)\n",
    "class ModelTrainerConfig:\n",
    "    root_dir: Path\n",
    "    data_path: Path\n",
    "    model: str\n",
    "    tokenizer: str\n",
    "    num_train_epochs: int\n",
    "    warmup_steps: int\n",
    "    per_device_train_batch_size: int\n",
    "    per_device_eval_batch_size: int\n",
    "    weight_decay: float\n",
    "    logging_steps: int\n",
    "    evaluation_strategy: str\n",
    "    eval_steps: int\n",
    "    save_steps: float\n",
    "    gradient_accumulation_steps: int\n",
    "    optim: str\n",
    "    lr_scheduler_type: str\n",
    "    fp16:  bool\n",
    "    bf16:  bool\n",
    "    use_4bit: bool\n",
    "    bnb_4bit_compute_dtype: str\n",
    "    bnb_4bit_quant_type: str\n",
    "    use_nested_quant: False\n",
    "    lora_r: int\n",
    "    lora_alpha: int\n",
    "    lora_dropout: int\n"
   ]
  },
  {
   "cell_type": "code",
   "execution_count": 6,
   "metadata": {},
   "outputs": [],
   "source": [
    "from TextCraft.utils.common import read_yaml, create_directories\n",
    "from TextCraft.constants import *\n"
   ]
  },
  {
   "cell_type": "code",
   "execution_count": 12,
   "metadata": {},
   "outputs": [],
   "source": [
    "class ConfigurationManager:\n",
    "    def __init__(self,config_path = CONFIG_FILE_PATH, params_path = PARAMS_FILE_PATH):\n",
    "        self.config = read_yaml(config_path)\n",
    "        self.params = read_yaml(params_path)\n",
    "\n",
    "        create_directories([self.config.artifacts_root])\n",
    "\n",
    "    def get_model_config(self) -> ModelTrainerConfig:\n",
    "        config = self.config.model_trainer\n",
    "        train_params = self.params.TrainingArguments\n",
    "        bnb_params = self.params.bnb_config\n",
    "        peft_config = self.params.peft_config\n",
    "        create_directories([config.root_dir])\n",
    "\n",
    "        get_model_training_config = ModelTrainerConfig(\n",
    "            root_dir= config.root_dir,\n",
    "            data_path= config.data_path,\n",
    "            model= config.model,\n",
    "            tokenizer=config.tokenizer,\n",
    "            num_train_epochs= train_params.num_train_epochs,\n",
    "            warmup_steps= train_params.warmup_steps,\n",
    "            per_device_train_batch_size=train_params.per_device_train_batch_size,\n",
    "            per_device_eval_batch_size= train_params.per_device_eval_batch_size,\n",
    "            weight_decay= train_params.weight_decay,\n",
    "            logging_steps= train_params.logging_steps,\n",
    "            evaluation_strategy= train_params.evaluation_strategy,\n",
    "            eval_steps= train_params.eval_steps,\n",
    "            save_steps= train_params.save_steps,\n",
    "            gradient_accumulation_steps= train_params.gradient_accumulation_steps,\n",
    "            optim= train_params.optim,\n",
    "            lr_scheduler_type= train_params.lr_scheduler_type,\n",
    "            fp16=  train_params.fp16,\n",
    "            bf16= train_params.bf16,\n",
    "            use_4bit= bnb_params.use_4bit,\n",
    "            bnb_4bit_compute_dtype = bnb_params.bnb_4bit_compute_dtype,\n",
    "            bnb_4bit_quant_type  = bnb_params.bnb_4bit_quant_type,\n",
    "            use_nested_quant= bnb_params.use_nested_quant,\n",
    "            lora_r = peft_config.lora_r,\n",
    "            lora_alpha= peft_config.lora_alpha,\n",
    "            lora_dropout= peft_config.lora_dropout\n",
    "        )\n",
    "        return get_model_training_config\n",
    "\n",
    "\n"
   ]
  },
  {
   "cell_type": "code",
   "execution_count": 8,
   "metadata": {},
   "outputs": [
    {
     "name": "stderr",
     "output_type": "stream",
     "text": [
      "/home/aman/Desktop/TextCraft/Craft/lib/python3.10/site-packages/tqdm/auto.py:21: TqdmWarning: IProgress not found. Please update jupyter and ipywidgets. See https://ipywidgets.readthedocs.io/en/stable/user_install.html\n",
      "  from .autonotebook import tqdm as notebook_tqdm\n"
     ]
    },
    {
     "name": "stdout",
     "output_type": "stream",
     "text": [
      "[2024-09-12 16:45:54,214: INFO: config: PyTorch version 2.4.1 available.]\n"
     ]
    }
   ],
   "source": [
    "from transformers import (GPT2Tokenizer, GPT2LMHeadModel, Trainer, TrainingArguments, BitsAndBytesConfig,\n",
    "    HfArgumentParser,\n",
    "    TrainingArguments,\n",
    "    Trainer,\n",
    "    logging)\n",
    "from peft import LoraConfig, PeftModel\n",
    "from trl import SFTTrainer\n",
    "\n",
    "from datasets import load_dataset, load_from_disk\n",
    "import torch"
   ]
  },
  {
   "cell_type": "code",
   "execution_count": 13,
   "metadata": {},
   "outputs": [],
   "source": [
    "class ModelTrainer:\n",
    "    def __init__(self, config: ModelTrainerConfig):\n",
    "        self.config = config\n",
    "    \n",
    "    def train(self):\n",
    "        device = 'cuda' if torch.cuda.is_available() else 'cpu'\n",
    "        \n",
    "        tokenizer = GPT2Tokenizer.from_pretrained(self.config.tokenizer)\n",
    "\n",
    "        dataset_pt = load_from_disk(self.config.data_path)\n",
    "        tokenized_train_dataset = dataset_pt[\"train\"]\n",
    "        tokenized_eval_dataset = dataset_pt[\"validation\"]\n",
    "\n",
    "        tokenized_train_dataset.set_format(type=\"torch\", columns=[\"input_ids\", \"attention_mask\", \"labels\"])\n",
    "        tokenized_eval_dataset.set_format(type=\"torch\", columns=[\"input_ids\", \"attention_mask\", \"labels\"])\n",
    "\n",
    "        bnb_config = BitsAndBytesConfig(\n",
    "            load_in_4bit = self.config.use_4bit,\n",
    "            bnb_4bit_quant_type = self.config.bnb_4bit_quant_type,\n",
    "            bnb_4bit_compute_dtype =self.config.bnb_4bit_compute_dtype,\n",
    "            bnb_4bit_use_double_quant=self.config.use_nested_quant\n",
    "        )\n",
    "        model = GPT2LMHeadModel.from_pretrained(self.config.model, quantization_config=bnb_config).to(device)\n",
    "        \n",
    "        compute_type = getattr(torch, 'float16')\n",
    "        if compute_type == torch.float16 and self.config.use_4bit:\n",
    "            major, _ = torch.cuda.get_device_capability()\n",
    "            if major >=8:\n",
    "                print(\"=\" * 80)\n",
    "                print(\"Your GPU supports bfloat16: accelerate training with bf16=True\")\n",
    "                print(\"=\" * 80)\n",
    "\n",
    "        peft_config = LoraConfig(\n",
    "            lora_alpha=self.config.lora_alpha,\n",
    "            lora_dropout=self.config.lora_dropout,\n",
    "            r=self.config.lora_r,\n",
    "            bias=\"none\",\n",
    "            task_type=\"CAUSAL_LM\",\n",
    "        )\n",
    "        \n",
    "        \n",
    "        trainer_args = TrainingArguments(\n",
    "                output_dir=self.config.root_dir, num_train_epochs=self.config.num_train_epochs, warmup_steps=self.config.warmup_steps,\n",
    "                per_device_train_batch_size=self.config.per_device_train_batch_size, per_device_eval_batch_size=self.config.per_device_train_batch_size,\n",
    "                weight_decay=self.config.weight_decay, logging_steps=self.config.logging_steps,\n",
    "                evaluation_strategy=self.config.evaluation_strategy, eval_steps=self.config.eval_steps, save_steps=1e6,\n",
    "                gradient_accumulation_steps=self.config.gradient_accumulation_steps, optim = self.config.optim,\n",
    "                lr_scheduler_type = self.config.lr_scheduler_type, fp16=self.config.fp16, bf16=self.config.bf16\n",
    "        )\n",
    "\n",
    "        trainer = SFTTrainer(\n",
    "            model=model,\n",
    "            args=trainer_args,\n",
    "            peft_config=peft_config,\n",
    "            train_dataset=tokenized_train_dataset,\n",
    "            eval_dataset=tokenized_eval_dataset,\n",
    "            tokenizer=tokenizer,\n",
    "            packing=True\n",
    "        )\n",
    "\n",
    "        trainer.train()\n",
    "\n",
    "        trainer.model.save_pretrained(os.path.join(self.config.root_dir,\"gpt2\"))\n",
    "        tokenizer.save_pretrained(os.path.join(self.config.root_dir,\"tokenizer\"))   \n",
    "\n",
    "        base_model = GPT2LMHeadModel.from_pretrained(\n",
    "            model=model,\n",
    "            low_cpu_mem_usage=True,\n",
    "            return_dict=True,\n",
    "            torch_dtype=torch.float16\n",
    "        )\n",
    "\n",
    "        final_model = PeftModel.from_pretrained(base_model, os.path.join(self.config.root_dir,\"gpt2\"))\n",
    "        final_model = final_model.merge_and_unload()\n",
    "        final_model.save_pretrained(os.path.join(self.config.root_dir,\"gpt2\"))\n",
    "\n",
    "\n",
    "        \n"
   ]
  },
  {
   "cell_type": "code",
   "execution_count": 16,
   "metadata": {},
   "outputs": [
    {
     "name": "stdout",
     "output_type": "stream",
     "text": [
      "[2024-09-12 17:00:19,311: INFO: common: yaml file: config/config.yaml loaded successfully]\n",
      "[2024-09-12 17:00:19,319: INFO: common: yaml file: params.yaml loaded successfully]\n",
      "[2024-09-12 17:00:19,327: INFO: common: created directory at: artifacts]\n",
      "[2024-09-12 17:00:19,334: INFO: common: created directory at: artifacts/model_trainer]\n",
      "Model already exists at artifacts/model_trainer/gpt2/model.safetensors. Skipping training...\n"
     ]
    }
   ],
   "source": [
    "try:\n",
    "    config = ConfigurationManager()\n",
    "    model_trainer_config = config.get_model_config()\n",
    "    model_trainer_config = ModelTrainer(config=model_trainer_config)\n",
    "\n",
    "    model_path = os.path.join(\"artifacts\", \"model_trainer\", \"gpt2\", \"model.safetensors\")  # or 'pytorch_model.bin'\n",
    "\n",
    "    if os.path.exists(model_path):\n",
    "        print(f\"Model already exists at {model_path}. Skipping training...\")\n",
    "    else:\n",
    "        print(\"Model not found. Starting training...\")\n",
    "        model_trainer_config.train()\n",
    "except Exception as e:\n",
    "    raise e"
   ]
  }
 ],
 "metadata": {
  "kernelspec": {
   "display_name": "Craft",
   "language": "python",
   "name": "python3"
  },
  "language_info": {
   "codemirror_mode": {
    "name": "ipython",
    "version": 3
   },
   "file_extension": ".py",
   "mimetype": "text/x-python",
   "name": "python",
   "nbconvert_exporter": "python",
   "pygments_lexer": "ipython3",
   "version": "3.10.12"
  }
 },
 "nbformat": 4,
 "nbformat_minor": 2
}
