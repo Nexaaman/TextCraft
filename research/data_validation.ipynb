{
 "cells": [
  {
   "cell_type": "code",
   "execution_count": 1,
   "metadata": {},
   "outputs": [],
   "source": [
    "import os"
   ]
  },
  {
   "cell_type": "code",
   "execution_count": 21,
   "metadata": {},
   "outputs": [
    {
     "data": {
      "text/plain": [
       "'/home/aman/Desktop/TextCraft'"
      ]
     },
     "execution_count": 21,
     "metadata": {},
     "output_type": "execute_result"
    }
   ],
   "source": [
    "%pwd"
   ]
  },
  {
   "cell_type": "code",
   "execution_count": 3,
   "metadata": {},
   "outputs": [],
   "source": [
    "os.chdir(\"../\")"
   ]
  },
  {
   "cell_type": "code",
   "execution_count": 5,
   "metadata": {},
   "outputs": [],
   "source": [
    "from dataclasses import dataclass\n",
    "from pathlib import Path"
   ]
  },
  {
   "cell_type": "code",
   "execution_count": 31,
   "metadata": {},
   "outputs": [],
   "source": [
    "@dataclass\n",
    "class DataValidationConfig:\n",
    "    root_dir: Path\n",
    "    status: Path\n",
    "    REQUIRED_FILES: list"
   ]
  },
  {
   "cell_type": "code",
   "execution_count": 7,
   "metadata": {},
   "outputs": [],
   "source": [
    "from TextCraft.utils.common import read_yaml, create_directories\n",
    "from TextCraft.constants import *"
   ]
  },
  {
   "cell_type": "code",
   "execution_count": 32,
   "metadata": {},
   "outputs": [],
   "source": [
    "class ConfigurationManager:\n",
    "    def __init__(\n",
    "            self,\n",
    "            config_filepath = CONFIG_FILE_PATH,\n",
    "            params_filepath = PARAMS_FILE_PATH\n",
    "    ):\n",
    "        self.config = read_yaml(config_filepath)\n",
    "        self.params = read_yaml(params_filepath)\n",
    "\n",
    "        create_directories([self.config.artifacts_root])\n",
    "\n",
    "    def get_dataValidation_config(self) -> DataValidationConfig:\n",
    "        config = self.config.data_validation\n",
    "        create_directories([config.root_dir])\n",
    "\n",
    "        get_validation_config = DataValidationConfig(\n",
    "            root_dir= config.root_dir,\n",
    "            status= config.status,\n",
    "            REQUIRED_FILES = config.REQUIRED_FILES\n",
    "        )\n",
    "        return get_validation_config\n"
   ]
  },
  {
   "cell_type": "code",
   "execution_count": 13,
   "metadata": {},
   "outputs": [],
   "source": [
    "import os\n",
    "from TextCraft.logging import logger"
   ]
  },
  {
   "cell_type": "code",
   "execution_count": 36,
   "metadata": {},
   "outputs": [],
   "source": [
    "class DataValidation:\n",
    "    def __init__(self, config = DataValidationConfig):\n",
    "        self.config = config\n",
    "\n",
    "    def validation_validate(self) -> bool:\n",
    "        try:\n",
    "            validation_status = None\n",
    "            files = os.listdir(os.path.join(\"artifacts\", \"data_ingestion\", \"Text\"))\n",
    "            print(files)\n",
    "            for file in self.config.REQUIRED_FILES:\n",
    "                if file not in files:\n",
    "                    validation_status = False\n",
    "                    with open(self.config.status, \"w\") as f:\n",
    "                        f.write(f\"Validation STATUS: {validation_status}\")\n",
    "                else:\n",
    "                    validation_status = True\n",
    "                    with open(self.config.status, 'w') as f:\n",
    "                        f.write(f\"Validation STATUS: {validation_status}\")\n",
    "            return validation_status\n",
    "        except Exception as e:\n",
    "            raise e"
   ]
  },
  {
   "cell_type": "code",
   "execution_count": 37,
   "metadata": {},
   "outputs": [
    {
     "name": "stdout",
     "output_type": "stream",
     "text": [
      "[2024-09-09 18:24:20,520: INFO: common: yaml file: config/config.yaml loaded successfully]\n",
      "[2024-09-09 18:24:20,529: INFO: common: yaml file: params.yaml loaded successfully]\n",
      "[2024-09-09 18:24:20,536: INFO: common: created directory at: artifacts]\n",
      "[2024-09-09 18:24:20,541: INFO: common: created directory at: artifacts/data_validation]\n",
      "['validation.csv', 'test.csv', 'train.csv']\n"
     ]
    }
   ],
   "source": [
    "try:\n",
    "    config = ConfigurationManager()\n",
    "    data_validation_config = config.get_dataValidation_config()\n",
    "    data_validation_config = DataValidation(config = data_validation_config)\n",
    "    data_validation_config.validation_validate()\n",
    "except Exception as e:\n",
    "    raise e"
   ]
  },
  {
   "cell_type": "code",
   "execution_count": null,
   "metadata": {},
   "outputs": [],
   "source": []
  }
 ],
 "metadata": {
  "kernelspec": {
   "display_name": "Craft",
   "language": "python",
   "name": "python3"
  },
  "language_info": {
   "codemirror_mode": {
    "name": "ipython",
    "version": 3
   },
   "file_extension": ".py",
   "mimetype": "text/x-python",
   "name": "python",
   "nbconvert_exporter": "python",
   "pygments_lexer": "ipython3",
   "version": "3.10.12"
  }
 },
 "nbformat": 4,
 "nbformat_minor": 2
}
